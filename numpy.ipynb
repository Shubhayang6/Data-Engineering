{
  "cells": [
    {
      "cell_type": "markdown",
      "metadata": {},
      "source": [
        "**NUMPY Module functions**"
      ]
    },
    {
      "cell_type": "code",
      "execution_count": 52,
      "metadata": {
        "id": "TbtfZ11pV6S2"
      },
      "outputs": [],
      "source": [
        "import numpy as np"
      ]
    },
    {
      "cell_type": "code",
      "execution_count": 16,
      "metadata": {
        "colab": {
          "base_uri": "https://localhost:8080/"
        },
        "id": "pl3BAXmhXvOJ",
        "outputId": "58a15e97-bf0e-4005-b4ea-502dedd48d1c"
      },
      "outputs": [
        {
          "name": "stdout",
          "output_type": "stream",
          "text": [
            "[1 2 3 4 5]\n",
            "<class 'numpy.ndarray'>\n"
          ]
        }
      ],
      "source": [
        "array1 = np.array([1,2,3,4,5])\n",
        "print(array1)\n",
        "print(type(array1))"
      ]
    },
    {
      "cell_type": "code",
      "execution_count": 5,
      "metadata": {
        "colab": {
          "base_uri": "https://localhost:8080/"
        },
        "id": "5ox02iNbYF5H",
        "outputId": "06471594-e0a0-4b5d-8a9d-42d1d91d0ced"
      },
      "outputs": [
        {
          "name": "stdout",
          "output_type": "stream",
          "text": [
            "1\n",
            "2\n",
            "3\n",
            "4\n",
            "5\n"
          ]
        }
      ],
      "source": [
        "for i in range(len(array1)):\n",
        "  print(array1[i])"
      ]
    },
    {
      "cell_type": "code",
      "execution_count": 6,
      "metadata": {
        "colab": {
          "base_uri": "https://localhost:8080/"
        },
        "id": "gT8fPolJY4ha",
        "outputId": "1e9a4b73-6df5-4e5a-9355-6e2b867e208d"
      },
      "outputs": [
        {
          "name": "stdout",
          "output_type": "stream",
          "text": [
            "15\n"
          ]
        }
      ],
      "source": [
        "sum = 0\n",
        "for i in range(len(array1)):\n",
        "  sum += array1[i]\n",
        "\n",
        "print(sum)"
      ]
    },
    {
      "cell_type": "code",
      "execution_count": 7,
      "metadata": {
        "colab": {
          "base_uri": "https://localhost:8080/"
        },
        "id": "1EZAvm4maJW7",
        "outputId": "5d6b44f0-8312-4747-9be4-5d4c96e1bc91"
      },
      "outputs": [
        {
          "name": "stdout",
          "output_type": "stream",
          "text": [
            "[3 4]\n"
          ]
        }
      ],
      "source": [
        "#[start:end] --> start is inclusive where as end is exclusive\n",
        "print(array1[2:4])"
      ]
    },
    {
      "cell_type": "markdown",
      "metadata": {
        "id": "g6rpwBSZa1BS"
      },
      "source": [
        "Below is a list of all data types in NumPy and the characters used to represent them.\n",
        "\n",
        "*   i - integer\n",
        "*   b - boolean\n",
        "*   u - unsigned integer\n",
        "*   f - float\n",
        "*   c - complex float\n",
        "*   m - timedelta\n",
        "*   M - datetime\n",
        "*   O - object\n",
        "*   S - string\n",
        "*   U - unicode string\n",
        "*   V - fixed chunk of memory for other type ( void )\n",
        "\n",
        "\n"
      ]
    },
    {
      "cell_type": "code",
      "execution_count": 15,
      "metadata": {
        "colab": {
          "base_uri": "https://localhost:8080/"
        },
        "id": "EPK7ixdqanna",
        "outputId": "2245ece1-6c07-4d56-9cff-3e38376ee0eb"
      },
      "outputs": [
        {
          "name": "stdout",
          "output_type": "stream",
          "text": [
            "int32\n"
          ]
        }
      ],
      "source": [
        "print(array1.dtype)"
      ]
    },
    {
      "cell_type": "markdown",
      "metadata": {},
      "source": [
        "Functions : \n",
        "*   COPY\n",
        "*   VIEW"
      ]
    },
    {
      "cell_type": "code",
      "execution_count": 17,
      "metadata": {
        "id": "f62tXJLEcmMV"
      },
      "outputs": [
        {
          "name": "stdout",
          "output_type": "stream",
          "text": [
            "[69  2  3  4  5]\n",
            "****\n",
            "[1 2 3 4 5]\n"
          ]
        }
      ],
      "source": [
        "\n",
        "# --> COPY\n",
        "x = array1.copy()\n",
        "array1[0] = 69\n",
        "print(array1)\n",
        "print(\"****\")\n",
        "print(x)"
      ]
    },
    {
      "cell_type": "code",
      "execution_count": 18,
      "metadata": {},
      "outputs": [
        {
          "name": "stdout",
          "output_type": "stream",
          "text": [
            "[69  2  3  4  5]\n",
            "****\n",
            "[69  2  3  4  5]\n"
          ]
        }
      ],
      "source": [
        "# --> VIEW\n",
        "x = array1.view()\n",
        "array1[0] = 69\n",
        "print(array1)\n",
        "print(\"****\")\n",
        "print(x)"
      ]
    },
    {
      "cell_type": "markdown",
      "metadata": {},
      "source": [
        "Shape of an Array"
      ]
    },
    {
      "cell_type": "code",
      "execution_count": 23,
      "metadata": {},
      "outputs": [
        {
          "name": "stdout",
          "output_type": "stream",
          "text": [
            "(2, 5)\n",
            "[[ 1  2  3  4  5]\n",
            " [11 12 13 14 15]]\n",
            "(1, 1, 1, 1, 5)\n"
          ]
        }
      ],
      "source": [
        "array2 = np.array([[1,2,3,4,5],[11,12,13,14,15]])\n",
        "print(array2.shape)\n",
        "\n",
        "print(array2)\n",
        "\n",
        "array3 = np.array([1,2,3,4,5],ndmin = 5)\n",
        "print(array3.shape)"
      ]
    },
    {
      "cell_type": "markdown",
      "metadata": {},
      "source": [
        "Reshape of an array"
      ]
    },
    {
      "cell_type": "code",
      "execution_count": 27,
      "metadata": {},
      "outputs": [
        {
          "name": "stdout",
          "output_type": "stream",
          "text": [
            "[[ 1  2  3]\n",
            " [ 4  5  6]\n",
            " [ 7  8  9]\n",
            " [10 11 12]]\n"
          ]
        }
      ],
      "source": [
        "array4 = np.array([1,2,3,4,5,6,7,8,9,10,11,12])\n",
        "newArray4 = array4.reshape(4,3)\n",
        "print(newArray4)"
      ]
    },
    {
      "cell_type": "markdown",
      "metadata": {},
      "source": [
        "1d to 3d array using reshape"
      ]
    },
    {
      "cell_type": "code",
      "execution_count": 28,
      "metadata": {},
      "outputs": [
        {
          "name": "stdout",
          "output_type": "stream",
          "text": [
            "[[[ 1  2]\n",
            "  [ 3  4]\n",
            "  [ 5  6]]\n",
            "\n",
            " [[ 7  8]\n",
            "  [ 9 10]\n",
            "  [11 12]]]\n"
          ]
        }
      ],
      "source": [
        "array5 = np.array([1,2,3,4,5,6,7,8,9,10,11,12])\n",
        "newArray5 = array5.reshape(2,3,2)\n",
        "print(newArray5)"
      ]
    },
    {
      "cell_type": "markdown",
      "metadata": {},
      "source": [
        "Accessing 3d array"
      ]
    },
    {
      "cell_type": "code",
      "execution_count": 31,
      "metadata": {},
      "outputs": [
        {
          "name": "stdout",
          "output_type": "stream",
          "text": [
            "1\n",
            "2\n",
            "3\n",
            "4\n",
            "5\n",
            "6\n",
            "7\n",
            "8\n",
            "9\n",
            "10\n",
            "11\n",
            "12\n"
          ]
        }
      ],
      "source": [
        "for i in newArray5:\n",
        "\tfor x in i:\n",
        "\t\tfor y in x:\n",
        "\t\t  print(y)"
      ]
    },
    {
      "cell_type": "markdown",
      "metadata": {},
      "source": [
        "Concatenate and Stack"
      ]
    },
    {
      "cell_type": "code",
      "execution_count": 37,
      "metadata": {},
      "outputs": [
        {
          "name": "stdout",
          "output_type": "stream",
          "text": [
            "[[1 2]\n",
            " [3 4]\n",
            " [5 6]\n",
            " [7 8]]\n",
            "[[[1 2]\n",
            "  [3 4]]\n",
            "\n",
            " [[5 6]\n",
            "  [7 8]]]\n"
          ]
        }
      ],
      "source": [
        "array6 = np.array([[1,2],[3,4]])\n",
        "array7 = np.array([[5,6],[7,8]])\n",
        "\n",
        "newArray6 = np.concatenate((array6,array7))\n",
        "print(newArray6)\n",
        "\n",
        "newArray7 = np.stack((array6,array7))\n",
        "print(newArray7)\n"
      ]
    },
    {
      "cell_type": "markdown",
      "metadata": {},
      "source": [
        "Splitting arrays"
      ]
    },
    {
      "cell_type": "code",
      "execution_count": 42,
      "metadata": {},
      "outputs": [
        {
          "name": "stdout",
          "output_type": "stream",
          "text": [
            "[array([1, 2]), array([3, 4]), array([5, 6]), array([7, 8])]\n"
          ]
        }
      ],
      "source": [
        "array8 = np.array([1,2,3,4,5,6,7,8])\n",
        "newArray8 = np.array_split(array8,4)\n",
        "print(newArray8)"
      ]
    },
    {
      "cell_type": "markdown",
      "metadata": {},
      "source": [
        "Searching Index of array"
      ]
    },
    {
      "cell_type": "code",
      "execution_count": 43,
      "metadata": {},
      "outputs": [
        {
          "name": "stdout",
          "output_type": "stream",
          "text": [
            "(array([1, 3, 5, 7], dtype=int64),)\n"
          ]
        }
      ],
      "source": [
        "array9 = np.array([1,2,3,4,5,6,7,8])\n",
        "\n",
        "idx = np.where(array9%2 == 0)\n",
        "print(idx)"
      ]
    },
    {
      "cell_type": "markdown",
      "metadata": {},
      "source": [
        "Sorting arrays"
      ]
    },
    {
      "cell_type": "code",
      "execution_count": 51,
      "metadata": {},
      "outputs": [
        {
          "name": "stdout",
          "output_type": "stream",
          "text": [
            "[  4.55   7.    11.    45.    63.6  864.  ]\n",
            "['apple' 'banana' 'cherry']\n"
          ]
        }
      ],
      "source": [
        "array10 = np.array([4.55,63.6,864,7,11,45])\n",
        "print(np.sort(array10))\n",
        "\n",
        "array11 = np.array(['banana', 'cherry', 'apple'])\n",
        "print(np.sort(array11))\n"
      ]
    }
  ],
  "metadata": {
    "colab": {
      "provenance": [],
      "toc_visible": true
    },
    "kernelspec": {
      "display_name": "Python 3",
      "name": "python3"
    },
    "language_info": {
      "codemirror_mode": {
        "name": "ipython",
        "version": 3
      },
      "file_extension": ".py",
      "mimetype": "text/x-python",
      "name": "python",
      "nbconvert_exporter": "python",
      "pygments_lexer": "ipython3",
      "version": "3.9.0"
    }
  },
  "nbformat": 4,
  "nbformat_minor": 0
}
